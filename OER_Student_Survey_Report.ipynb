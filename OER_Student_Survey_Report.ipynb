{
  "nbformat": 4,
  "nbformat_minor": 0,
  "metadata": {
    "colab": {
      "name": "OER Student Survey Report.ipynb",
      "provenance": [],
      "collapsed_sections": [],
      "authorship_tag": "ABX9TyOntiUHk/B5AbKSBxKf6gVE",
      "include_colab_link": true
    },
    "kernelspec": {
      "name": "python3",
      "display_name": "Python 3"
    },
    "language_info": {
      "name": "python"
    }
  },
  "cells": [
    {
      "cell_type": "markdown",
      "metadata": {
        "id": "view-in-github",
        "colab_type": "text"
      },
      "source": [
        "<a href=\"https://colab.research.google.com/github/RuchitaThombare/OER-Survey-Project-Data-Cleaning/blob/main/OER_Student_Survey_Report.ipynb\" target=\"_parent\"><img src=\"https://colab.research.google.com/assets/colab-badge.svg\" alt=\"Open In Colab\"/></a>"
      ]
    },
    {
      "cell_type": "markdown",
      "source": [
        "Cleaning Student Surver File"
      ],
      "metadata": {
        "id": "N3eX_XApp1iL"
      }
    },
    {
      "cell_type": "markdown",
      "source": [
        "Datasource at https://drive.google.com/file/d/1nFJHwDcHAEpi1XTeOrG6IwKZIGbIx7G7/view?usp=sharing"
      ],
      "metadata": {
        "id": "4rYw90iOuYR_"
      }
    },
    {
      "cell_type": "markdown",
      "source": [
        "Import Data"
      ],
      "metadata": {
        "id": "CEWvxv8suaWO"
      }
    },
    {
      "cell_type": "code",
      "source": [
        "import pandas as pd\n",
        "url='https://drive.google.com/file/d/1nFJHwDcHAEpi1XTeOrG6IwKZIGbIx7G7/view?usp=sharing'\n",
        "url='https://drive.google.com/uc?id=' + url.split('/')[-2]\n",
        "df = pd.read_csv(url)\n",
        "#df.count()\n",
        "#df has 207 count"
      ],
      "metadata": {
        "id": "eo-cZmztvlCa"
      },
      "execution_count": 173,
      "outputs": []
    },
    {
      "cell_type": "markdown",
      "source": [
        "Clean Data"
      ],
      "metadata": {
        "id": "CA_3gkjgwMX5"
      }
    },
    {
      "cell_type": "code",
      "source": [
        "\n",
        "# Remove rows where all values are missing\n",
        "df.dropna(inplace = True, how='all')\n",
        "df.describe()\n",
        "\n",
        "#drop columns\n",
        "to_drop = ['Status', 'IPAddress', 'Progress', 'Duration (in seconds)', 'Finished', 'RecordedDate', 'ResponseId', 'RecipientLastName', 'RecipientFirstName', 'ExternalReference', 'LocationLatitude', 'LocationLongitude', 'DistributionChannel', 'UserLanguage', 'QRecaptchaScore', 'QParticipantConsent']\n",
        "df.drop(to_drop, inplace=True, axis=1)\n",
        "\n",
        "# clean panther id coloumn\n",
        "df['PantherID'] = df['PantherID'].str.replace('-', '')\n",
        "\n",
        "# replace blanks or nan with 0\n",
        "df = df.fillna(0)\n",
        "#df.count()\n",
        "\n",
        "#df has 207 values here"
      ],
      "metadata": {
        "id": "vYnNOUtSwOsc"
      },
      "execution_count": 174,
      "outputs": []
    },
    {
      "cell_type": "markdown",
      "source": [
        "Replace Question 31-40  Answers with value 1 if correct else 0"
      ],
      "metadata": {
        "id": "tcSOdPIJTdCK"
      }
    },
    {
      "cell_type": "code",
      "source": [
        "#replace Q31 answers\n",
        "\n",
        "def replace_answer(df, column, answer):\n",
        "  df[column] = df[column].apply(lambda x: 1 if (x == answer or x == 1) else 0)\n",
        "  #print(df[column])\n",
        "\n",
        "#call function\n",
        "replace_answer(df, 'Q31', 'Innovator')\n",
        "replace_answer(df, 'Q32', 'Market size')\n",
        "replace_answer(df, 'Q33', 'Desiring to take business risk for growth')\n",
        "replace_answer(df, 'Q34', 'Design thinking')\n",
        "replace_answer(df, 'Q35', 'Low supply, high demand\tInnovation canvas')\n",
        "replace_answer(df, 'Q36', 'Lean canvas')\n",
        "replace_answer(df, 'Q37', 'Franchising')\n",
        "replace_answer(df, 'Q38', 'Bank funding')\n",
        "replace_answer(df, 'Q39', 'A serial entrepreneur is someone who starts multiple entrepreneurial ventures, while a social entrepreneur is someone who focuses on solving a problem')\n",
        "replace_answer(df, 'Q40', 'Find the intersection between customer problem and your solution')\n",
        "\n",
        "\n"
      ],
      "metadata": {
        "id": "g0ndVsoAO96q"
      },
      "execution_count": 175,
      "outputs": []
    },
    {
      "cell_type": "markdown",
      "source": [
        "Add Pre test variable score"
      ],
      "metadata": {
        "id": "GHjPlKYmohbj"
      }
    },
    {
      "cell_type": "code",
      "source": [
        "# add Pretest Variable Score to dataframe\n",
        "\n",
        "column_list = ['Q31', 'Q32', 'Q33', 'Q34', 'Q35', 'Q36', 'Q37', 'Q38', 'Q39', 'Q40']\n",
        "df['PretestVariableScore'] = df[column_list].sum(axis=1)\n",
        "\n"
      ],
      "metadata": {
        "id": "RiNAg0cUolmR"
      },
      "execution_count": 186,
      "outputs": []
    },
    {
      "cell_type": "markdown",
      "source": [
        "#Add Instructor Resource"
      ],
      "metadata": {
        "id": "rlcR6sNzp6cv"
      }
    },
    {
      "cell_type": "markdown",
      "source": [
        "### Read Entrpreneurial Ecosystem ENI csv\n",
        "https://drive.google.com/file/d/1e6YB4-IGGN3C5Q2XSMCTXBFghB-XDZ_S/view?usp=sharing"
      ],
      "metadata": {
        "id": "1lb94NGqpzr9"
      }
    },
    {
      "cell_type": "code",
      "source": [
        "url2='https://drive.google.com/file/d/1e6YB4-IGGN3C5Q2XSMCTXBFghB-XDZ_S/view?usp=sharing'\n",
        "url2='https://drive.google.com/uc?id=' + url2.split('/')[-2]\n",
        "df2 = pd.read_csv(url2)\n",
        "#df2.count()\n",
        "#count here is 244"
      ],
      "metadata": {
        "id": "3qQxo21ErOSU"
      },
      "execution_count": 190,
      "outputs": []
    },
    {
      "cell_type": "markdown",
      "source": [
        "Clean csv data"
      ],
      "metadata": {
        "id": "WUjZnppmMN-j"
      }
    },
    {
      "cell_type": "code",
      "source": [
        "# Remove rows where all values are missing\n",
        "df2.dropna(inplace = True, how='all')\n",
        "\n",
        "#drop columns\n",
        "to_drop = ['Status', 'IPAddress', 'Progress', 'Duration (in seconds)', 'Finished', 'RecordedDate', 'ResponseId', 'RecipientLastName', 'RecipientFirstName', 'ExternalReference', 'LocationLatitude', 'LocationLongitude', 'DistributionChannel', 'UserLanguage']\n",
        "df2.drop(to_drop, inplace=True, axis=1)\n",
        "\n",
        "# clean panther id coloumn\n",
        "df2['PantherID'] = df2['PantherID'].str.replace('-', '')\n",
        "df2 = df2.filter(['PantherID', 'Instructor', 'ParticipantEmail'])\n",
        "\n",
        "# replace blanks or nan with 0\n",
        "df2 = df2.fillna(0)\n",
        "\n"
      ],
      "metadata": {
        "id": "M8zOgsV8MKYs"
      },
      "execution_count": 191,
      "outputs": []
    },
    {
      "cell_type": "markdown",
      "source": [
        "Merge df with Instructor Variable"
      ],
      "metadata": {
        "id": "k2GLqbJlW48e"
      }
    },
    {
      "cell_type": "code",
      "source": [
        "#add Instructor variable to main file\n",
        "df2 = df2[df2.PantherID != 0]\n",
        "df3 = df.merge(df2, on=['PantherID'], how = 'left', indicator=True)\n",
        "df3.count()\n",
        "\n",
        "# Save Results\n",
        "df3.to_csv('FinalClean.csv', sep=',', encoding='utf-8', index=False)"
      ],
      "metadata": {
        "id": "8f9W0WYOTwwf"
      },
      "execution_count": 192,
      "outputs": []
    }
  ]
}